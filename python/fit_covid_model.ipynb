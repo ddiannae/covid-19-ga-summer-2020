{
 "cells": [
  {
   "cell_type": "code",
   "execution_count": 1,
   "metadata": {},
   "outputs": [],
   "source": [
    "from scipy.integrate import solve_ivp\n",
    "import numpy as np"
   ]
  },
  {
   "cell_type": "code",
   "execution_count": 2,
   "metadata": {},
   "outputs": [],
   "source": [
    "def covid_model_ga(t, y, pars, agepars):\n",
    "    \n",
    "    dydt = np.zeros(len(y))\n",
    "    \n",
    "    # Total asymptomatic\n",
    "    Ia = sum(y[agepars[\"Ia_ids\"]])\n",
    "    \n",
    "    # Total symptomatic\n",
    "    Is = sum(y[agepars[\"Is_ids\"]])\n",
    "    \n",
    "    # Total recovered\n",
    "    R = sum(y[agepars[\"R_ids\"]])\n",
    "    \n",
    "    # Total susceptible\n",
    "    S = sum(y[agepars[\"S_ids\"]])\n",
    "    \n",
    "    # Total exposed\n",
    "    E = sum(y[agepars[\"E_ids\"]])\n",
    "\n",
    "    # Dynamics -  Base Model\n",
    "    \n",
    "    # Susceptible\n",
    "    dydt[agepars[\"S_ids\"]] = -pars[\"beta_a\"] * y[agepars[\"S_ids\"]] * Ia - \\\n",
    "                            pars[\"beta_s\"] * y[agepars[\"S_ids\"]] * Is\n",
    "    \n",
    "    # Exposed\n",
    "    dydt[agepars[\"E_ids\"]] = pars[\"beta_a\"] * y[agepars[\"S_ids\"]] * Ia + \\\n",
    "                            pars[\"beta_s\"] * y[agepars[\"S_ids\"]] * Is - pars[\"gamma_e\"] * y[agepars[\"E_ids\"]]\n",
    "    \n",
    "    # Infectious asymptomatically\n",
    "    dydt[agepars[\"Ia_ids\"]] = np.transpose(pars[\"p\"]) * pars[\"gamma_e\"] * y[agepars[\"E_ids\"]] - \\\n",
    "                            pars[\"gamma_a\"] * y[agepars[\"Ia_ids\"]]\n",
    "    \n",
    "    # Infectious symptomatically\n",
    "    dydt[agepars[\"Is_ids\"]] = np.transpose(np.ones(len(pars[\"p\"])) - pars[\"p\"]) * pars[\"gamma_e\"] * \\\n",
    "                            y[agepars[\"E_ids\"]] - pars[\"gamma_s\"] * y[agepars[\"Is_ids\"]]\n",
    "    \n",
    "    # Symptomatic cases requiring hospital care (subacute)\n",
    "    dydt[agepars[\"Ihsub_ids\"]]= np.transpose(agepars[\"hosp_frac\"]) * (1 - np.transpose(agepars[\"hosp_crit\"])) * \\\n",
    "                            pars[\"gamma_s\"] * y[agepars[\"Is_ids\"]] - pars[\"gamma_h\"] * y[agepars[\"Ihsub_ids\"]]\n",
    "    \n",
    "    # Symptomatic cases requiring ICU intervention (acute/critical)\n",
    "    dydt[agepars[\"Ihcri_ids\"]]= np.transpose(agepars[\"hosp_frac\"]) * np.transpose(agepars[\"hosp_crit\"]) * \\\n",
    "                            pars[\"gamma_s\"] * y[agepars[\"Is_ids\"]] - pars[\"gamma_h\"] * y[agepars[\"Ihcri_ids\"]]\n",
    "    \n",
    "    # Recovered\n",
    "    dydt[agepars[\"R_ids\"]]= pars[\"gamma_a\"] * y[agepars[\"Ia_ids\"]] + \\\n",
    "                            pars[\"gamma_s\"] * y[agepars[\"Is_ids\"]] * (1 - np.transpose(agepars[\"hosp_frac\"])) + \\\n",
    "                            pars[\"gamma_h\"] * y[agepars[\"Ihsub_ids\"]] + \\\n",
    "                            pars[\"gamma_h\"] * y[agepars[\"Ihcri_ids\"]] * (1 - np.transpose(agepars[\"crit_die\"]))\n",
    "    \n",
    "    # Deaths\n",
    "    dydt[agepars[\"D_ids\"]] = pars[\"gamma_h\"] * y[agepars[\"Ihcri_ids\"]] * np.transpose(agepars[\"crit_die\"])\n",
    "    \n",
    "    # HFR. Hospitalization fatality risk. Infectious and hospitalized\n",
    "    dydt[agepars[\"Hcum_ids\"]]= np.transpose(agepars[\"hosp_frac\"]) * (1 - np.transpose(agepars[\"hosp_crit\"])) * \\\n",
    "                            pars[\"gamma_s\"] * y[agepars[\"Is_ids\"]] + np.transpose(agepars[\"hosp_frac\"]) * \\\n",
    "                            np.transpose(agepars[\"hosp_crit\"]) * pars[\"gamma_s\"] * y[agepars[\"Is_ids\"]]\n",
    "    # Is it the same as?\n",
    "    #dydt[agepars[\"Hcum_ids\"]]= np.transpose(agepars[\"hosp_frac\"]) * pars[\"gamma_s\"] * y[agepars[\"Is_ids\"]] \n",
    "\n",
    "    return dydt"
   ]
  },
  {
   "cell_type": "markdown",
   "metadata": {},
   "source": [
    "### Population"
   ]
  },
  {
   "cell_type": "code",
   "execution_count": 3,
   "metadata": {},
   "outputs": [],
   "source": [
    "agepars = {}\n",
    "# Age groups\n",
    "agepars[\"meanage\"] = np.arange(5, 96, 10)\n",
    "agepars[\"highage\"] = np.arange(9, 100, 10)\n",
    "agepars[\"lowage\"] = np.arange(0, 91, 10)"
   ]
  },
  {
   "cell_type": "code",
   "execution_count": 4,
   "metadata": {},
   "outputs": [],
   "source": [
    "# From 2018 Census\n",
    "population = {}\n",
    "population[\"N\"] = 10666108;\n",
    "# Age population fractions\n",
    "population[\"agefrac\"] = np.array([0.126, 0.137, 0.139, 0.132, 0.130, 0.129, 0.104, 0.061, 0.036, 0.007]);\n",
    "# Must sum to 1\n",
    "population[\"agefrac\"] = population[\"agefrac\"]/sum(population[\"agefrac\"])\n",
    "population[\"meanage\"] = sum(agepars[\"meanage\"] * population[\"agefrac\"])"
   ]
  },
  {
   "cell_type": "markdown",
   "metadata": {},
   "source": [
    "### Parameters\n"
   ]
  },
  {
   "cell_type": "code",
   "execution_count": 5,
   "metadata": {},
   "outputs": [],
   "source": [
    "pars = {}\n",
    "\n",
    "#From exposed to infectious. 1/gamma_e = mean exposed period\n",
    "pars[\"gamma_e\"] = 1/4\n",
    "\n",
    "#From asymptomatic to recovered. Resolution rate for asymptomatic. 1/gamma_a = mean asymptomatic period\n",
    "pars[\"gamma_a\"] = 1/6\n",
    "\n",
    "#From symptomatic to recovered. Resolution rate for symptomatic. 1/gamma_s = mean symptomatic period\n",
    "pars[\"gamma_s\"] = 1/6\n",
    "\n",
    "#From subacute to recovered. 1/gamma_h = mean hospital period\n",
    "pars[\"gamma_h\"] = 1/10\n",
    "\n",
    "#From susceptible to asymptomatic exposed. beta_a = transmission for asymptomatic\n",
    "pars[\"beta_a\"] = 4/10\n",
    "\n",
    "#From susceptible to symptomatic exposed. beta_s = transmission for symptomatic\n",
    "pars[\"beta_s\"] = 8/10\n",
    "\n",
    "#Fraction of asymptomatic per age group\n",
    "pars[\"p\"] = np.array([0.95, 0.95, 0.90, 0.8, 0.7, 0.6, 0.4, 0.2, 0.2, 0.2])\n",
    "pars[\"overall_p\"] = sum(pars[\"p\"] * population[\"agefrac\"])\n",
    "pars[\"Itrigger\"] = 500000/population[\"N\"]"
   ]
  },
  {
   "cell_type": "code",
   "execution_count": 6,
   "metadata": {},
   "outputs": [],
   "source": [
    "agepars[\"num_ages\"]  = len(agepars[\"meanage\"]);\n",
    "N = agepars[\"num_ages\"]\n",
    "\n",
    "# Fraction of hospitalized individuals per age group \n",
    "agepars[\"hosp_frac\"] = np.array([0.1, 0.3, 1.2, 3.2, 4.9, 10.2, 16.6, 24.3, 27.3, 27.3])/100\n",
    "\n",
    "# Fraction of ICU needed given hospitalization\n",
    "agepars[\"hosp_crit\"] = np.array([5, 5, 5, 5, 6.3, 12.2, 27.4, 43.2, 70.9, 70.9])/100\n",
    "\n",
    "# Fraction of deaths given ICU\n",
    "agepars[\"crit_die\"] = 0.5 * np.ones(N);\n",
    "\n",
    "# Set up indexes for each group \n",
    "agepars[\"S_ids\"] = np.arange(0, N)\n",
    "agepars[\"E_ids\"] = np.arange(N, 2*N)\n",
    "agepars[\"Ia_ids\"] = np.arange(2*N, 3*N)\n",
    "agepars[\"Is_ids\"] = np.arange(3*N, 4*N)\n",
    "agepars[\"Ihsub_ids\"] = np.arange(4*N, 5*N)\n",
    "agepars[\"Ihcri_ids\"] = np.arange(5*N, 6*N)\n",
    "agepars[\"R_ids\"] = np.arange(6*N, 7*N)\n",
    "agepars[\"D_ids\"] = np.arange(7*N, 8*N)\n",
    "agepars[\"Hcum_ids\"] = np.arange(8*N, 9*N)"
   ]
  },
  {
   "cell_type": "markdown",
   "metadata": {},
   "source": [
    " ### Epidemiological parameters"
   ]
  },
  {
   "cell_type": "code",
   "execution_count": 7,
   "metadata": {},
   "outputs": [],
   "source": [
    "# Transmission for asymptomatic / Resolution rate for asymptomatic\n",
    "pars[\"Ra\"] = pars[\"beta_a\"]/pars[\"gamma_a\"]\n",
    "\n",
    "# Transmission for symptomatic / Resolution rate for symptomatic\n",
    "pars[\"Rs\"] = pars[\"beta_s\"]/pars[\"gamma_s\"]\n",
    "\n",
    "# Basic reproduction number\n",
    "# If no age stratification: \n",
    "# pars[\"R0\"] = pars[\"p\"] * pars[\"Ra\"] + (1 - pars[\"p\"]) * pars[\"Rs\"]\n",
    "\n",
    "# With age stratification:\n",
    "pars[\"R0\"] = sum(pars[\"p\"] * population[\"agefrac\"] * pars[\"Ra\"] + \n",
    "                 (1 - pars[\"p\"]) * population[\"agefrac\"] * pars[\"Rs\"])"
   ]
  },
  {
   "cell_type": "markdown",
   "metadata": {},
   "source": [
    "### Init the population - baseline\n"
   ]
  },
  {
   "cell_type": "code",
   "execution_count": 8,
   "metadata": {},
   "outputs": [],
   "source": [
    "tmpzeros = np.zeros(N)\n",
    "\n",
    "outbreak = {}\n",
    "outbreak[\"y0\"] = np.concatenate((population[\"agefrac\"], tmpzeros, tmpzeros,\n",
    "                                 tmpzeros, tmpzeros, tmpzeros, tmpzeros, tmpzeros, tmpzeros), axis = None)\n",
    "\n",
    "# Initiate an outbreak\n",
    "# Remove one person from the Susceptible population, third age group\n",
    "# Move that person to the Exposed population, third age group\n",
    "outbreak[\"y0\"] = population[\"N\"] * outbreak[\"y0\"]\n",
    "outbreak[\"y0\"][2] = outbreak[\"y0\"][2]-1\n",
    "outbreak[\"y0\"][12] = 1\n",
    "outbreak[\"y0\"] = outbreak[\"y0\"]/population[\"N\"]\n",
    "outbreak[\"pTime\"] = 365\n",
    "outbreak[\"pNear\"] = 30\n",
    "outbreak[\"pshift\"] =  0"
   ]
  },
  {
   "cell_type": "code",
   "execution_count": 10,
   "metadata": {},
   "outputs": [],
   "source": [
    "def intervene_trigger(t, y, pars, agepars):\n",
    "    itot = 1 - sum(y[agepars[\"S_ids\"]])\n",
    "    value = itot - pars[\"Itrigger\"]\n",
    "    return(value)\n",
    "intervene_trigger.terminal = True\n",
    "intervene_trigger.direction = 0"
   ]
  },
  {
   "cell_type": "markdown",
   "metadata": {},
   "source": [
    "### Simulation"
   ]
  },
  {
   "cell_type": "code",
   "execution_count": 11,
   "metadata": {},
   "outputs": [
    {
     "name": "stderr",
     "output_type": "stream",
     "text": [
      "/labs/csbig/dgarcia-covid/miniconda3/envs/model-covid/lib/python3.8/site-packages/scipy/integrate/_ivp/common.py:40: UserWarning: The following arguments have no effect for a chosen solver: `reltol`.\n",
      "  warn(\"The following arguments have no effect for a chosen solver: {}.\"\n"
     ]
    }
   ],
   "source": [
    "sol_pre = solve_ivp(covid_model_ga, (0, outbreak[\"pTime\"] + 1), outbreak[\"y0\"], \\\n",
    "                    t_eval = np.arange(0, outbreak[\"pTime\"] + 1 , 1), \\\n",
    "                    args = (pars,agepars), reltol = 1e-8, max_step = 0.1, events = intervene_trigger)"
   ]
  },
  {
   "cell_type": "code",
   "execution_count": 43,
   "metadata": {},
   "outputs": [],
   "source": [
    "stats = {}\n",
    "# HFR. Hospitalization fatality risk. Infectious and hospitalized\n",
    "stats[\"Hcum\"] = sum(sol_pre.y[agepars[\"Hcum_ids\"], :])\n",
    "# Deaths\n",
    "stats[\"Dcum\"] = sum(sol_pre.y[agepars[\"D_ids\"], :])"
   ]
  },
  {
   "cell_type": "code",
   "execution_count": 23,
   "metadata": {},
   "outputs": [
    {
     "data": {
      "text/plain": [
       "[array([86.03242901])]"
      ]
     },
     "execution_count": 23,
     "metadata": {},
     "output_type": "execute_result"
    }
   ],
   "source": [
    "sol_pre.t_events"
   ]
  },
  {
   "cell_type": "code",
   "execution_count": 24,
   "metadata": {},
   "outputs": [],
   "source": [
    "te = sol_pre.t_events[0][0]"
   ]
  },
  {
   "cell_type": "markdown",
   "metadata": {},
   "source": [
    "# Plots"
   ]
  },
  {
   "cell_type": "code",
   "execution_count": 17,
   "metadata": {},
   "outputs": [],
   "source": [
    "import matplotlib.pyplot as plt\n",
    "import datetime\n",
    "from matplotlib.dates import DateFormatter\n",
    "from matplotlib.ticker import StrMethodFormatter"
   ]
  },
  {
   "cell_type": "code",
   "execution_count": 29,
   "metadata": {},
   "outputs": [],
   "source": [
    "day_base = datetime.date.today()\n",
    "dates = [day_base + datetime.timedelta(days=int(x)) for x in range(-int(te), 10, 11)]       \n",
    "dates.sort()                                                             "
   ]
  },
  {
   "cell_type": "code",
   "execution_count": 31,
   "metadata": {},
   "outputs": [],
   "source": [
    "ga_cases  = [552, 620, 800, 1097, 1387, 1643, 2198]\n",
    "ga_hosp =  [186, 240, 361, 438, 509, 607, 660]\n",
    "ga_death = [25, 25, 38, 47, 56, 65, 79]\n",
    "ga_date = [day_base + datetime.timedelta(days=int(x)) for x in range(-6, 1)]       "
   ]
  },
  {
   "cell_type": "code",
   "execution_count": 48,
   "metadata": {},
   "outputs": [
    {
     "data": {
      "image/png": "[encoded data removed]",
      "text/plain": [
       "<Figure size 504x504 with 1 Axes>"
      ]
     },
     "metadata": {
      "needs_background": "light"
     },
     "output_type": "display_data"
    }
   ],
   "source": [
    "date_form = DateFormatter(\"%d/%m\")\n",
    "\n",
    "fig = plt.figure(figsize=(7, 7))\n",
    "ax = fig.add_subplot(111)\n",
    "\n",
    "\n",
    "ax.semilogy(ga_date, ga_hosp, 'bd', label = \"Hospitalization - Data\")\n",
    "ax.semilogy(ga_date, ga_death, 'ro', label = \"Deaths - Data\")\n",
    "\n",
    "ax.semilogy([day_base + datetime.timedelta(days=-int(te) + int(x)) for x in sol_pre.t], \\\n",
    "        stats[\"Hcum\"]*population[\"N\"], 'b-', label = \"Hospitalization - Model\")\n",
    "\n",
    "ax.semilogy([day_base + datetime.timedelta(days=-int(te) + int(x)) for x in sol_pre.t], \\\n",
    "        stats[\"Dcum\"]*population[\"N\"], 'r-', label = \"Deaths - Model\")\n",
    "\n",
    "ax.set(xlabel = 'Date', ylabel = 'Cumulative counts', ylim = (10e0,10e4))\n",
    "ax.xaxis.set_major_formatter(date_form)\n",
    "ax.xaxis.set_major_locator(plt.MaxNLocator(15))\n",
    "ax.set_xticks(dates)\n",
    "plt.rc('axes', titlesize = 16)\n",
    "plt.rc('xtick', labelsize = 12)   \n",
    "plt.rc('ytick', labelsize = 12)\n",
    "\n",
    "plt.grid(which = \"major\")\n",
    "plt.legend()\n",
    "plt.title(\"\"\"Free running epidemic fits\"\"\")\n",
    "plt.show()"
   ]
  }
 ],
 "metadata": {
  "kernelspec": {
   "display_name": "Python 3",
   "language": "python",
   "name": "python3"
  },
  "language_info": {
   "codemirror_mode": {
    "name": "ipython",
    "version": 3
   },
   "file_extension": ".py",
   "mimetype": "text/x-python",
   "name": "python",
   "nbconvert_exporter": "python",
   "pygments_lexer": "ipython3",
   "version": "3.8.2"
  }
 },
 "nbformat": 4,
 "nbformat_minor": 4
}
