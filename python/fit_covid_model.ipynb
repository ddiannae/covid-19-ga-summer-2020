{
 "cells": [
  {
   "cell_type": "code",
   "execution_count": 1,
   "metadata": {},
   "outputs": [],
   "source": [
    "from scipy.integrate import solve_ivp\n",
    "import numpy as np\n",
    "import covid_model as cm\n",
    "import population_params as pp\n",
    "import epi_params as ep"
   ]
  },
  {
   "cell_type": "markdown",
   "metadata": {},
   "source": [
    "### Epidemiological Parameters\n"
   ]
  },
  {
   "cell_type": "code",
   "execution_count": 2,
   "metadata": {},
   "outputs": [
    {
     "data": {
      "text/plain": [
       "3.0944655344655354"
      ]
     },
     "execution_count": 2,
     "metadata": {},
     "output_type": "execute_result"
    }
   ],
   "source": [
    "# Basic reproduction number\n",
    "# If no age stratification: \n",
    "# pars[\"R0\"] = pp.population[\"p\"] * ep.pars[\"Ra\"] + (1 - pars[\"p\"]) * pars[\"Rs\"]\n",
    "\n",
    "# With age stratification:\n",
    "r0 = sum(pp.population[\"p\"] * pp.population[\"agefrac\"] * ep.pars[\"Ra\"] + \n",
    "                 (1 - pp.population[\"p\"]) * pp.population[\"agefrac\"] * ep.pars[\"Rs\"])\n",
    "r0"
   ]
  },
  {
   "cell_type": "markdown",
   "metadata": {},
   "source": [
    "### Init the population - baseline\n"
   ]
  },
  {
   "cell_type": "code",
   "execution_count": 3,
   "metadata": {},
   "outputs": [],
   "source": [
    "tmpzeros = np.zeros(pp.population[\"nran\"])\n",
    "\n",
    "outbreak = {}\n",
    "outbreak[\"y0\"] = np.concatenate((pp.population[\"agefrac\"], tmpzeros, tmpzeros,\n",
    "                                 tmpzeros, tmpzeros, tmpzeros, tmpzeros, tmpzeros, tmpzeros), axis = None)\n",
    "\n",
    "# Initiate an outbreak\n",
    "# Remove one person from the Susceptible population, third age group\n",
    "# Move that person to the Exposed population, third age group\n",
    "outbreak[\"y0\"] = pp.population[\"N\"] * outbreak[\"y0\"]\n",
    "outbreak[\"y0\"][2] = outbreak[\"y0\"][2]-1\n",
    "outbreak[\"y0\"][12] = 1\n",
    "outbreak[\"y0\"] = outbreak[\"y0\"]/pp.population[\"N\"]\n",
    "outbreak[\"pTime\"] = 365\n",
    "outbreak[\"pNear\"] = 30\n",
    "outbreak[\"pshift\"] =  0"
   ]
  },
  {
   "cell_type": "code",
   "execution_count": 4,
   "metadata": {},
   "outputs": [],
   "source": [
    "def intervene_trigger(t, y, epi_pars, population_pars):\n",
    "    itot = 1 - sum(y[population_pars[\"S_ids\"]])\n",
    "    value = itot - epi_pars[\"Itrigger\"]/population_pars[\"N\"]\n",
    "    return(value)\n",
    "intervene_trigger.terminal = True\n",
    "intervene_trigger.direction = 0"
   ]
  },
  {
   "cell_type": "markdown",
   "metadata": {},
   "source": [
    "### Simulation"
   ]
  },
  {
   "cell_type": "code",
   "execution_count": 5,
   "metadata": {},
   "outputs": [
    {
     "name": "stderr",
     "output_type": "stream",
     "text": [
      "/labs/csbig/dgarcia-covid/miniconda3/envs/model-covid/lib/python3.8/site-packages/scipy/integrate/_ivp/common.py:40: UserWarning: The following arguments have no effect for a chosen solver: `reltol`.\n",
      "  warn(\"The following arguments have no effect for a chosen solver: {}.\"\n"
     ]
    }
   ],
   "source": [
    "sol_pre = solve_ivp(cm.SEIRplus, (0, outbreak[\"pTime\"] + 1), outbreak[\"y0\"], \\\n",
    "                    t_eval = np.arange(0, outbreak[\"pTime\"] + 1 , 1), \\\n",
    "                    args = (ep.pars, pp.population), reltol = 1e-8, max_step = 0.1, events = intervene_trigger)"
   ]
  },
  {
   "cell_type": "code",
   "execution_count": 6,
   "metadata": {},
   "outputs": [],
   "source": [
    "stats = {}\n",
    "# HFR. Hospitalization fatality risk. Infectious and hospitalized\n",
    "stats[\"Hcum\"] = sum(sol_pre.y[pp.population[\"Hcum_ids\"], :])\n",
    "# Deaths\n",
    "stats[\"Dcum\"] = sum(sol_pre.y[pp.population[\"D_ids\"], :])"
   ]
  },
  {
   "cell_type": "code",
   "execution_count": 7,
   "metadata": {},
   "outputs": [
    {
     "data": {
      "text/plain": [
       "[array([86.03242901])]"
      ]
     },
     "execution_count": 7,
     "metadata": {},
     "output_type": "execute_result"
    }
   ],
   "source": [
    "sol_pre.t_events"
   ]
  },
  {
   "cell_type": "code",
   "execution_count": 8,
   "metadata": {},
   "outputs": [],
   "source": [
    "te = sol_pre.t_events[0][0]"
   ]
  },
  {
   "cell_type": "markdown",
   "metadata": {},
   "source": [
    "# Plots"
   ]
  },
  {
   "cell_type": "code",
   "execution_count": 9,
   "metadata": {},
   "outputs": [],
   "source": [
    "import matplotlib.pyplot as plt\n",
    "import datetime\n",
    "from matplotlib.dates import DateFormatter\n",
    "from matplotlib.ticker import StrMethodFormatter"
   ]
  },
  {
   "cell_type": "code",
   "execution_count": 10,
   "metadata": {},
   "outputs": [],
   "source": [
    "day_base = datetime.date.today()\n",
    "dates = [day_base + datetime.timedelta(days=int(x)) for x in range(-int(te), 10, 11)]       \n",
    "dates.sort()                                                             "
   ]
  },
  {
   "cell_type": "code",
   "execution_count": 11,
   "metadata": {},
   "outputs": [],
   "source": [
    "ga_cases  = [552, 620, 800, 1097, 1387, 1643, 2198]\n",
    "ga_hosp =  [186, 240, 361, 438, 509, 607, 660]\n",
    "ga_death = [25, 25, 38, 47, 56, 65, 79]\n",
    "ga_date = [day_base + datetime.timedelta(days=int(x)) for x in range(-6, 1)]       "
   ]
  },
  {
   "cell_type": "code",
   "execution_count": 12,
   "metadata": {},
   "outputs": [
    {
     "data": {
      "image/png": "[encoded data removed]",
      "text/plain": [
       "<Figure size 504x504 with 1 Axes>"
      ]
     },
     "metadata": {
      "needs_background": "light"
     },
     "output_type": "display_data"
    }
   ],
   "source": [
    "date_form = DateFormatter(\"%d/%m\")\n",
    "\n",
    "fig = plt.figure(figsize=(7, 7))\n",
    "ax = fig.add_subplot(111)\n",
    "\n",
    "\n",
    "ax.semilogy(ga_date, ga_hosp, 'bd', label = \"Hospitalization - Data\")\n",
    "ax.semilogy(ga_date, ga_death, 'ro', label = \"Deaths - Data\")\n",
    "\n",
    "ax.semilogy([day_base + datetime.timedelta(days=-int(te) + int(x)) for x in sol_pre.t], \\\n",
    "        stats[\"Hcum\"]* pp.population[\"N\"], 'b-', label = \"Hospitalization - Model\")\n",
    "\n",
    "ax.semilogy([day_base + datetime.timedelta(days=-int(te) + int(x)) for x in sol_pre.t], \\\n",
    "        stats[\"Dcum\"]* pp.population[\"N\"], 'r-', label = \"Deaths - Model\")\n",
    "\n",
    "ax.set(xlabel = 'Date', ylabel = 'Cumulative counts', ylim = (10e0,10e4))\n",
    "ax.xaxis.set_major_formatter(date_form)\n",
    "ax.xaxis.set_major_locator(plt.MaxNLocator(15))\n",
    "ax.set_xticks(dates)\n",
    "plt.rc('axes', titlesize = 16)\n",
    "plt.rc('xtick', labelsize = 12)   \n",
    "plt.rc('ytick', labelsize = 12)\n",
    "\n",
    "plt.grid(which = \"major\")\n",
    "plt.legend()\n",
    "plt.title(\"\"\"Free running epidemic fits\"\"\")\n",
    "plt.show()"
   ]
  },
  {
   "cell_type": "code",
   "execution_count": 32,
   "metadata": {},
   "outputs": [],
   "source": [
    "import math"
   ]
  },
  {
   "cell_type": "code",
   "execution_count": 55,
   "metadata": {},
   "outputs": [],
   "source": [
    "# t-equivalent - find the equivalent time given the\n",
    "# observed case data\n",
    "fit_days = 7\n",
    "tstart_max = math.floor(te)-10\n",
    "tstart_min = 20\n",
    "sse = []\n",
    "for t0 in range(tstart_min, tstart_max + 1):\n",
    "   model_hosp = stats[\"Hcum\"][t0:t0 + fit_days] * pp.population[\"N\"]\n",
    "   model_death = stats[\"Dcum\"][t0:t0 + fit_days] * pp.population[\"N\"]\n",
    "   sse.append(math.sqrt(sum(np.log(model_hosp) - np.log(ga_hosp)) ** 2 + \\\n",
    "                   sum(np.log(model_death) - np.log(ga_death))**2))\n"
   ]
  },
  {
   "cell_type": "code",
   "execution_count": 58,
   "metadata": {},
   "outputs": [],
   "source": [
    "sse = np.array(sse) \n",
    "sse = sse[sse > 0]\n",
    "t0 = np.argmin(sse) + tstart_min"
   ]
  },
  {
   "cell_type": "code",
   "execution_count": 59,
   "metadata": {},
   "outputs": [
    {
     "data": {
      "image/png": "[encoded data removed]",
      "text/plain": [
       "<Figure size 504x504 with 1 Axes>"
      ]
     },
     "metadata": {
      "needs_background": "light"
     },
     "output_type": "display_data"
    }
   ],
   "source": [
    "date_form = DateFormatter(\"%d/%m\")\n",
    "\n",
    "fig = plt.figure(figsize=(7, 7))\n",
    "ax = fig.add_subplot(111)\n",
    "\n",
    "\n",
    "ax.semilogy(ga_date, ga_hosp, 'bd', label = \"Hospitalization - Data\")\n",
    "ax.semilogy(ga_date, ga_death, 'ro', label = \"Deaths - Data\")\n",
    "\n",
    "ax.semilogy([day_base + datetime.timedelta(days=-int(te) + int(x) + (te - t0 - 7)) for x in sol_pre.t], \\\n",
    "        stats[\"Hcum\"]* pp.population[\"N\"], 'b-', label = \"Hospitalization - Model\")\n",
    "\n",
    "ax.semilogy([day_base + datetime.timedelta(days=-int(te) + int(x) + (te - t0 - 7)) for x in sol_pre.t], \\\n",
    "        stats[\"Dcum\"]* pp.population[\"N\"], 'r-', label = \"Deaths - Model\")\n",
    "\n",
    "ax.set(xlabel = 'Date', ylabel = 'Cumulative counts', ylim = (10e0,10e4))\n",
    "ax.xaxis.set_major_formatter(date_form)\n",
    "ax.xaxis.set_major_locator(plt.MaxNLocator(15))\n",
    "ax.set_xticks(dates)\n",
    "plt.rc('axes', titlesize = 16)\n",
    "plt.rc('xtick', labelsize = 12)   \n",
    "plt.rc('ytick', labelsize = 12)\n",
    "\n",
    "plt.grid(which = \"major\")\n",
    "plt.legend()\n",
    "plt.title(\"\"\"Time-shifted epidemic fits\"\"\")\n",
    "plt.show()"
   ]
  }
 ],
 "metadata": {
  "kernelspec": {
   "display_name": "Python 3",
   "language": "python",
   "name": "python3"
  },
  "language_info": {
   "codemirror_mode": {
    "name": "ipython",
    "version": 3
   },
   "file_extension": ".py",
   "mimetype": "text/x-python",
   "name": "python",
   "nbconvert_exporter": "python",
   "pygments_lexer": "ipython3",
   "version": "3.8.2"
  }
 },
 "nbformat": 4,
 "nbformat_minor": 4
}
